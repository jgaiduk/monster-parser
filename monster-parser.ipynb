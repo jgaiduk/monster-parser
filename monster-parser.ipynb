{
 "cells": [
  {
   "cell_type": "code",
   "execution_count": 1,
   "metadata": {
    "collapsed": true
   },
   "outputs": [],
   "source": [
    "import requests\n",
    "from bs4 import BeautifulSoup\n",
    "base_url = \"https://www.monster.com/jobs/\""
   ]
  },
  {
   "cell_type": "code",
   "execution_count": 2,
   "metadata": {
    "collapsed": true
   },
   "outputs": [],
   "source": [
    "from selenium import webdriver\n",
    "from selenium.webdriver.common.keys import Keys"
   ]
  },
  {
   "cell_type": "markdown",
   "metadata": {},
   "source": [
    "С главной страницы раздела Browse Jobs собираем ссылки на штаты"
   ]
  },
  {
   "cell_type": "code",
   "execution_count": 3,
   "metadata": {},
   "outputs": [
    {
     "name": "stdout",
     "output_type": "stream",
     "text": [
      "['https://www.monster.com/jobs/browse/l-alabama.aspx', 'https://www.monster.com/jobs/browse/l-alaska.aspx', 'https://www.monster.com/jobs/browse/l-arizona.aspx']\n"
     ]
    }
   ],
   "source": [
    "states_links = []\n",
    "r = requests.get(base_url)\n",
    "soup = BeautifulSoup(r.text, 'html.parser')\n",
    "box = soup.find(\"ul\", class_=\"card-columns\")\n",
    "for a in box.find_all('a'):\n",
    "    states_links.append(a['href'])\n",
    "print(states_links[:3])"
   ]
  },
  {
   "cell_type": "markdown",
   "metadata": {},
   "source": [
    "На странице штата требуется развернуть полный список городов"
   ]
  },
  {
   "cell_type": "code",
   "execution_count": 4,
   "metadata": {
    "collapsed": true
   },
   "outputs": [],
   "source": [
    "def selenium_click(link):\n",
    "    # Используем селениум, чтобы раскрыть полный список городов\n",
    "    driver = webdriver.Firefox(executable_path='/Users/froggityfrog/geckodriver')\n",
    "    driver.get(link)\n",
    "    elem = driver.find_element_by_link_text(\"View All\")\n",
    "    elem.click()\n",
    "    soup = BeautifulSoup(driver.page_source, 'html.parser')\n",
    "    driver.quit()\n",
    "    return soup"
   ]
  },
  {
   "cell_type": "markdown",
   "metadata": {},
   "source": [
    "После разворачивания списка городов получим список ссылок на страницы вакансий городов"
   ]
  },
  {
   "cell_type": "code",
   "execution_count": 5,
   "metadata": {
    "collapsed": true
   },
   "outputs": [],
   "source": [
    "def get_cities(soup):\n",
    "    #получаем список ссылок на города\n",
    "    cities = []\n",
    "    all_cities = soup.find('ul', class_=\"card-columns browse-all\")\n",
    "    all_h2 = all_cities.find_all('h2')\n",
    "    for h2 in all_h2:\n",
    "        cities.append(h2.a['href'])\n",
    "    return cities"
   ]
  },
  {
   "cell_type": "markdown",
   "metadata": {},
   "source": [
    "На странице вакансий города собираем ссылки на сами вакансии"
   ]
  },
  {
   "cell_type": "code",
   "execution_count": 6,
   "metadata": {
    "collapsed": true
   },
   "outputs": [],
   "source": [
    "def get_job_links(url):\n",
    "    #получаем список ссылок на страницы вакансий\n",
    "    r = requests.get(url)\n",
    "    if r.ok:\n",
    "        soup = BeautifulSoup(r.text, 'html.parser')\n",
    "        links = []\n",
    "        divs = soup.find_all(\"div\", class_=\"jobTitle\")\n",
    "        for div in divs:\n",
    "            links.append(div.a['href'])\n",
    "        return links"
   ]
  },
  {
   "cell_type": "markdown",
   "metadata": {},
   "source": [
    "На странице вакансии собираем описание"
   ]
  },
  {
   "cell_type": "code",
   "execution_count": 7,
   "metadata": {
    "collapsed": true
   },
   "outputs": [],
   "source": [
    "def get_text(link):\n",
    "    r = requests.get(link)\n",
    "    soup = BeautifulSoup(r.text, 'html.parser')\n",
    "    div = soup.find(\"div\", id=\"JobDescription\")\n",
    "    text = []\n",
    "    for string in div.stripped_strings:\n",
    "        text.append(string.strip().rstrip())\n",
    "    return \" \".join(text)"
   ]
  },
  {
   "cell_type": "markdown",
   "metadata": {},
   "source": [
    "Собираем все вместе. Ссылки на штаты у нас уже имеются."
   ]
  },
  {
   "cell_type": "code",
   "execution_count": null,
   "metadata": {},
   "outputs": [],
   "source": [
    "with open('monster_job_descriptions.txt', 'w') as outfile:\n",
    "    job_links = [] # сюда будем класть ссылки на вакансии\n",
    "    for link in states_links[:1]:   # ссылки на штаты получены нами ранее\n",
    "        soup = selenium_click(link) # кликаем по ссылке, получаем в ответ суп\n",
    "        cities = get_cities(soup)   # вынимаем из супа ссылки на города\n",
    "        \n",
    "        #Переходим по каждой ссылке города и собираем ссылки на вакансии этого города\n",
    "        for url in cities[:1]:      \n",
    "            #Мы не знаем, сколько страниц вакансий в городе, так что повторяем, пока не закончатся страницы\n",
    "            for i in range(1, 51):\n",
    "                city_jobs = get_job_links(url+\"?page=\"+str(i)) # проходимся по страницам\n",
    "                if city_jobs != None:\n",
    "                    job_links += city_jobs\n",
    "        \n",
    "    # На этом моменте у нас есть список ссылок на вакансии. \n",
    "    for link in job_links[:50]:\n",
    "        text = get_text(link)      # собираем текст\n",
    "        outfile.write(text+'\\n')   # записываем текст в файл\n",
    "        "
   ]
  }
 ],
 "metadata": {
  "kernelspec": {
   "display_name": "Python 3",
   "language": "python",
   "name": "python3"
  },
  "language_info": {
   "codemirror_mode": {
    "name": "ipython",
    "version": 3
   },
   "file_extension": ".py",
   "mimetype": "text/x-python",
   "name": "python",
   "nbconvert_exporter": "python",
   "pygments_lexer": "ipython3",
   "version": "3.6.1"
  }
 },
 "nbformat": 4,
 "nbformat_minor": 2
}
